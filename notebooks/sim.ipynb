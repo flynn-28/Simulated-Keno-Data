{
 "cells": [
  {
   "cell_type": "markdown",
   "metadata": {},
   "source": [
    "# Simulated Keno Data"
   ]
  },
  {
   "cell_type": "markdown",
   "metadata": {},
   "source": [
    "### Background"
   ]
  },
  {
   "cell_type": "markdown",
   "metadata": {},
   "source": [
    "In this notebook we will walkthrough the process of simulating keno games"
   ]
  },
  {
   "cell_type": "markdown",
   "metadata": {},
   "source": [
    "### Import Libraries"
   ]
  },
  {
   "cell_type": "markdown",
   "metadata": {},
   "source": [
    "This program uses the libraries **random** and **csv**. **Random** is used for selecting random numbers, and **csv** is for writing the simulated data to a csv file."
   ]
  },
  {
   "cell_type": "code",
   "execution_count": null,
   "metadata": {},
   "outputs": [],
   "source": [
    "import random # import random library for picking random nunbers\n",
    "import csv # import csv library for writing data to csv"
   ]
  },
  {
   "cell_type": "markdown",
   "metadata": {},
   "source": [
    "### Define simulation function"
   ]
  },
  {
   "cell_type": "markdown",
   "metadata": {},
   "source": [
    "This program has the function ``sim()`` to call  the simulation. The ``sim()`` function is called with two inputs, *rounds* and *winners*. *Rounds* defines the amount of times the simualtion will be run, and *winners* defines how many numbers are to be drawn. The ``sim()`` function uses the list *data* to store the simulation results, appending each round to it. After the simulation finishes running, it returns the *data* list contiaing the results."
   ]
  },
  {
   "cell_type": "code",
   "execution_count": null,
   "metadata": {},
   "outputs": [],
   "source": [
    "def sim(rounds, winners): # run the simulation with specified rounds and numbers drawn\n",
    "    data = [] # initialize list to hold data\n",
    "    for i in range(rounds): # for loop for to simulate data for each round\n",
    "        data.append(random.sample(range(1, 81), winners)) # append simulated round data to data list\n",
    "    return data # return final list containing data"
   ]
  },
  {
   "cell_type": "markdown",
   "metadata": {},
   "source": [
    "### Define save function"
   ]
  },
  {
   "cell_type": "markdown",
   "metadata": {},
   "source": [
    "This simulation has the function ``save()``. The ``save()`` function is used to save the results of the ``sim()`` function to a csv file. ``save()`` has two inputs aswell, *data* and *filename*. *data* is the list returned by the ``sim()`` function, and *filename* is the name of the csv file that the program saves to, based on later input. The ``save()`` function first opens the file in write mode, writes the header row that defines structure, and sets *index* to 1. Then, it runs a for loop for every sublist in the *data* list, writing *index* and the current sublist to the csv file, then it adds 1 to *index*."
   ]
  },
  {
   "cell_type": "code",
   "execution_count": null,
   "metadata": {},
   "outputs": [],
   "source": [
    "def save(data, filename): # function to save data to csv, inputs for filename and data\n",
    "    with open(filename, mode='w', newline='') as file: # open file with name filename in write mode\n",
    "        writer = csv.writer(file) # initialize writer\n",
    "        writer.writerow(['index', 'data']) # write first row of csv, containing structure\n",
    "        index = 1 # set initial index\n",
    "        for row in data: # for loop to write every row found in data\n",
    "            writer.writerow([index, row]) # write the row and its index to csv\n",
    "            index += 1 # add 1 to the index\n",
    "        print(\"data saved\")"
   ]
  },
  {
   "cell_type": "markdown",
   "metadata": {},
   "source": [
    "### Set input based variables"
   ]
  },
  {
   "cell_type": "markdown",
   "metadata": {},
   "source": [
    "This program has three input based variables, *rounds*, *winners*, and *filename*. *rounds* is set to an integer and is used for determining the amount of times the simulation should run. *winners* is set to an integer and determines the amount of tiles that are drawn. *filename* is an f string based on *rounds* and *winners* to help sort data."
   ]
  },
  {
   "cell_type": "code",
   "execution_count": null,
   "metadata": {},
   "outputs": [],
   "source": [
    "rounds = int(input(\"how many rounds: \")) # specify how many rounds to simulate\n",
    "\n",
    "winners = int(input(\"how many winners drawn per round: \")) # specify how many numbers to draw, usualy 10 but can vary\n",
    "\n",
    "filename = f\"keno_{rounds}_rounds_{winners}_drawn.csv\" # create filename based on input"
   ]
  },
  {
   "cell_type": "markdown",
   "metadata": {},
   "source": [
    "### Run the simulation"
   ]
  },
  {
   "cell_type": "markdown",
   "metadata": {},
   "source": [
    "To run this simulation, you call the ``sim()`` function and then the ``save()`` function. The ``sim()`` function simulates the data and the ``save()`` function saves it."
   ]
  },
  {
   "cell_type": "code",
   "execution_count": null,
   "metadata": {},
   "outputs": [],
   "source": [
    "data = sim(rounds, winners) # run the simulation and save the results\n",
    "save(data, filename) # save the data"
   ]
  }
 ],
 "metadata": {
  "kernelspec": {
   "display_name": "base",
   "language": "python",
   "name": "python3"
  },
  "language_info": {
   "name": "python",
   "version": "3.10.10"
  }
 },
 "nbformat": 4,
 "nbformat_minor": 2
}
